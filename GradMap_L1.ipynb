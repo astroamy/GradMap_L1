{
 "metadata": {
  "name": "",
  "signature": "sha256:01339f4f6ed0c83cd0d77a01a03a5d6e9d66b1c71aaa06d2d199d32555021eab"
 },
 "nbformat": 3,
 "nbformat_minor": 0,
 "worksheets": [
  {
   "cells": [
    {
     "cell_type": "heading",
     "level": 1,
     "metadata": {},
     "source": [
      "Introduction to \"Doing Science\" in Python for REAL Beginners "
     ]
    },
    {
     "cell_type": "markdown",
     "metadata": {},
     "source": [
      "Python is one of many languages you can use for research and HW purposes. In the next few days, we will work through many of the tool, tips, and tricks that we as graduate students (and PhD researchers) use on a daily basis. We will NOT attempt to teach you all of Python--there isn't time. We will however build up a set of code(s) that will allow you to read and write data, make beautiful publish-worthy plots, fit a line (or any function) to data, and set up algorithms. You will also begin to learn the syntax of Python and can hopefuly apply this knowledge to your current and future work. "
     ]
    },
    {
     "cell_type": "markdown",
     "metadata": {},
     "source": [
      "##Before we begin, a few words on navigating the iPython Notebook:\n",
      "\n",
      "* There are two main types of cells : Code and Text \n",
      "* In \"code\" cells \"#\" at the beginning of a line marks the line as comment\n",
      "* In \"code\" cells every non commented line is intepreted\n",
      "* In \"code\" cells, commands that are preceded by % are \"magics\" and are special commands in Ipython to add some functionality to the runtime interactive environment.\n",
      "* Shift+Return shortcut to execute a cell\n",
      "* Alt+Return   shortcut to execute a cell and create another one below\n",
      "\n",
      "Here you can find a complete documentation about the notebook. \n",
      "http://ipython.org/ipython-doc/1/interactive/notebook.html\n",
      "In particular have a look at the section about the keyboard shortcuts.\n",
      "\n",
      "\n",
      "## And remember that :\n",
      "* Indentation has a meaning ( we'll talk about this when we cover loops)\n",
      "* Indexes start from 0  ( similar to C )\n",
      "\n",
      "We will discuss more about these concepts while doing things. Let's get started now!!!!"
     ]
    },
    {
     "cell_type": "markdown",
     "metadata": {},
     "source": [
      "## A. Numbers and Calculations"
     ]
    },
    {
     "cell_type": "markdown",
     "metadata": {},
     "source": [
      "Note: To insert comments to yourself (this is always a great idea), use the # symbol."
     ]
    },
    {
     "cell_type": "code",
     "collapsed": false,
     "input": [
      "## You can use Python as a calculator:\n",
      "5*7  #This is a comment and does not affect your code.\n",
      "#You can have as many as you want. \n",
      "#No worries. "
     ],
     "language": "python",
     "metadata": {},
     "outputs": [
      {
       "metadata": {},
       "output_type": "pyout",
       "prompt_number": 3,
       "text": [
        "35"
       ]
      }
     ],
     "prompt_number": 3
    },
    {
     "cell_type": "code",
     "collapsed": false,
     "input": [
      "5+7"
     ],
     "language": "python",
     "metadata": {},
     "outputs": [
      {
       "metadata": {},
       "output_type": "pyout",
       "prompt_number": 4,
       "text": [
        "12"
       ]
      }
     ],
     "prompt_number": 4
    },
    {
     "cell_type": "code",
     "collapsed": false,
     "input": [
      "5-7"
     ],
     "language": "python",
     "metadata": {},
     "outputs": [
      {
       "metadata": {},
       "output_type": "pyout",
       "prompt_number": 5,
       "text": [
        "-2"
       ]
      }
     ],
     "prompt_number": 5
    },
    {
     "cell_type": "markdown",
     "metadata": {},
     "source": [
      "The two calculations below would be equal on most calculators, but they are not equal to Python 2 and most other languages. The first, $5/7$ is division between integers and the answer will be an integer. The second, $5./7$ is division between a float (a number with a decimal) and an integer. Check to see if the answer is the same. "
     ]
    },
    {
     "cell_type": "code",
     "collapsed": false,
     "input": [
      "5/7"
     ],
     "language": "python",
     "metadata": {},
     "outputs": [
      {
       "metadata": {},
       "output_type": "pyout",
       "prompt_number": 6,
       "text": [
        "0"
       ]
      }
     ],
     "prompt_number": 6
    },
    {
     "cell_type": "code",
     "collapsed": false,
     "input": [
      "5./7"
     ],
     "language": "python",
     "metadata": {},
     "outputs": [
      {
       "metadata": {},
       "output_type": "pyout",
       "prompt_number": 7,
       "text": [
        "0.7142857142857143"
       ]
      }
     ],
     "prompt_number": 7
    },
    {
     "cell_type": "markdown",
     "metadata": {},
     "source": [
      "Let's assign some variables and **print()** them to the screen."
     ]
    },
    {
     "cell_type": "code",
     "collapsed": false,
     "input": [
      "a = 5\n",
      "b = 7"
     ],
     "language": "python",
     "metadata": {},
     "outputs": [],
     "prompt_number": 8
    },
    {
     "cell_type": "code",
     "collapsed": false,
     "input": [
      "print a"
     ],
     "language": "python",
     "metadata": {},
     "outputs": [
      {
       "output_type": "stream",
       "stream": "stdout",
       "text": [
        "5\n"
       ]
      }
     ],
     "prompt_number": 9
    },
    {
     "cell_type": "code",
     "collapsed": false,
     "input": [
      "print b"
     ],
     "language": "python",
     "metadata": {},
     "outputs": [
      {
       "output_type": "stream",
       "stream": "stdout",
       "text": [
        "7\n"
       ]
      }
     ],
     "prompt_number": 10
    },
    {
     "cell_type": "code",
     "collapsed": false,
     "input": [
      "print a*b , a+b, a/b"
     ],
     "language": "python",
     "metadata": {},
     "outputs": [
      {
       "output_type": "stream",
       "stream": "stdout",
       "text": [
        "35 12 0\n"
       ]
      }
     ],
     "prompt_number": 11
    },
    {
     "cell_type": "code",
     "collapsed": false,
     "input": [
      "a = 5.\n",
      "b = 7\n",
      "print a*b, a+b, a/b"
     ],
     "language": "python",
     "metadata": {},
     "outputs": [
      {
       "output_type": "stream",
       "stream": "stdout",
       "text": [
        "35.0 12.0 0.714285714286\n"
       ]
      }
     ],
     "prompt_number": 12
    },
    {
     "cell_type": "markdown",
     "metadata": {},
     "source": [
      "Next, let's create a list of numbers and do math to that list. "
     ]
    },
    {
     "cell_type": "code",
     "collapsed": false,
     "input": [
      "c = [0,1,2,3,4,5,6,7,8,9]\n",
      "print c"
     ],
     "language": "python",
     "metadata": {},
     "outputs": [
      {
       "output_type": "stream",
       "stream": "stdout",
       "text": [
        "[0, 1, 2, 3, 4, 5, 6, 7, 8, 9]\n"
       ]
      }
     ],
     "prompt_number": 99
    },
    {
     "cell_type": "markdown",
     "metadata": {},
     "source": [
      "How many elements or numbers does the list c contain? Yes, this is easy to count now, but you will eventually work with lists that contains MANY numbers. To get the *length* of a list (or array), use **len()**."
     ]
    },
    {
     "cell_type": "code",
     "collapsed": false,
     "input": [
      "len(c)"
     ],
     "language": "python",
     "metadata": {},
     "outputs": [
      {
       "metadata": {},
       "output_type": "pyout",
       "prompt_number": 25,
       "text": [
        "10"
       ]
      }
     ],
     "prompt_number": 25
    },
    {
     "cell_type": "markdown",
     "metadata": {},
     "source": [
      "What exactly is c? It looks like an array because of the square brackets, but it isn't. To see what any variable is, use **type()**. "
     ]
    },
    {
     "cell_type": "code",
     "collapsed": false,
     "input": [
      "type() #pick a variable: a, b, or c and type it in the parentheses "
     ],
     "language": "python",
     "metadata": {},
     "outputs": [
      {
       "metadata": {},
       "output_type": "pyout",
       "prompt_number": 28,
       "text": [
        "numpy.ndarray"
       ]
      }
     ],
     "prompt_number": 28
    },
    {
     "cell_type": "markdown",
     "metadata": {},
     "source": [
      "Now, some math... Let's square each value in c and put those values in a new list called d. To square a variable (or number), you use \\*\\*. So $3^{**}2=9$. The rest of the math operations (+ / - x) are 'normal.'"
     ]
    },
    {
     "cell_type": "code",
     "collapsed": false,
     "input": [
      "d = c**2"
     ],
     "language": "python",
     "metadata": {},
     "outputs": [
      {
       "ename": "TypeError",
       "evalue": "unsupported operand type(s) for ** or pow(): 'list' and 'int'",
       "output_type": "pyerr",
       "traceback": [
        "\u001b[1;31m---------------------------------------------------------------------------\u001b[0m\n\u001b[1;31mTypeError\u001b[0m                                 Traceback (most recent call last)",
        "\u001b[1;32m<ipython-input-100-f1d2f2285ae5>\u001b[0m in \u001b[0;36m<module>\u001b[1;34m()\u001b[0m\n\u001b[1;32m----> 1\u001b[1;33m \u001b[0md\u001b[0m \u001b[1;33m=\u001b[0m \u001b[0mc\u001b[0m\u001b[1;33m**\u001b[0m\u001b[1;36m2\u001b[0m\u001b[1;33m\u001b[0m\u001b[0m\n\u001b[0m",
        "\u001b[1;31mTypeError\u001b[0m: unsupported operand type(s) for ** or pow(): 'list' and 'int'"
       ]
      }
     ],
     "prompt_number": 100
    },
    {
     "cell_type": "markdown",
     "metadata": {},
     "source": [
      "This should not have worked. Why? The short answer is that a list is very useful, but it is not an array. However, you can convert your lists to arrays (and back again if you feel you need to). In order to do this conversion (and just about anything else), we need something extra. \n",
      "\n",
      "Python is a fantastic language because it is very powerful and flexible. Also, it is like modular furniture or modular building. You have the Python foundation and choose which modules you want/need and load them before you start working. One of the most loved here at UMD is the NumPy module (pronounced num-pie). This is the something extra (the module), that we need. For more information, see www.numpy.org/. \n",
      "\n",
      "When we plot this data below, we will also need a module for plotting. \n",
      "\n",
      "First, let us *import NumPy*. "
     ]
    },
    {
     "cell_type": "code",
     "collapsed": false,
     "input": [
      "import numpy "
     ],
     "language": "python",
     "metadata": {},
     "outputs": [],
     "prompt_number": 101
    },
    {
     "cell_type": "markdown",
     "metadata": {},
     "source": [
      "To convert our list $c = [0,1,2,3,4,5,6,7,8,9]$ to an array we use **numpy.array()**,"
     ]
    },
    {
     "cell_type": "code",
     "collapsed": false,
     "input": [
      "c = numpy.array(c)"
     ],
     "language": "python",
     "metadata": {},
     "outputs": [],
     "prompt_number": 102
    },
    {
     "cell_type": "code",
     "collapsed": false,
     "input": [
      "d = c**2\n",
      "print d"
     ],
     "language": "python",
     "metadata": {},
     "outputs": [
      {
       "output_type": "stream",
       "stream": "stdout",
       "text": [
        "[ 0  1  4  9 16 25 36 49 64 81]\n"
       ]
      }
     ],
     "prompt_number": 103
    },
    {
     "cell_type": "code",
     "collapsed": false,
     "input": [
      "type(d)"
     ],
     "language": "python",
     "metadata": {},
     "outputs": [
      {
       "metadata": {},
       "output_type": "pyout",
       "prompt_number": 104,
       "text": [
        "numpy.ndarray"
       ]
      }
     ],
     "prompt_number": 104
    },
    {
     "cell_type": "markdown",
     "metadata": {},
     "source": [
      "Great! However, typing numpy over and over again can get tiresome, so we can import it and give it a shorter name. It is common to use the following:"
     ]
    },
    {
     "cell_type": "code",
     "collapsed": false,
     "input": [
      "import numpy as np"
     ],
     "language": "python",
     "metadata": {},
     "outputs": [],
     "prompt_number": 105
    },
    {
     "cell_type": "markdown",
     "metadata": {},
     "source": [
      "In this notation, converting a list to an array would be np.array(c). \n"
     ]
    },
    {
     "cell_type": "markdown",
     "metadata": {},
     "source": [
      "## B. Our first plot! "
     ]
    },
    {
     "cell_type": "markdown",
     "metadata": {},
     "source": [
      "Now lets make a quick plot! We'll use the values from our list turned array, $c$, and plot $c^2$. "
     ]
    },
    {
     "cell_type": "code",
     "collapsed": false,
     "input": [
      "%matplotlib inline  # We only need this line while working in a Python notebook.\n",
      "import matplotlib\n",
      "import matplotlib.pyplot as plt\n"
     ],
     "language": "python",
     "metadata": {},
     "outputs": [
      {
       "output_type": "stream",
       "stream": "stderr",
       "text": [
        "UsageError: unrecognized arguments: # We only need this line while working in a Python notebook."
       ]
      }
     ],
     "prompt_number": 106
    },
    {
     "cell_type": "code",
     "collapsed": false,
     "input": [
      "x = c\n",
      "y = d\n",
      "\n",
      "p = plt.plot(x,y)"
     ],
     "language": "python",
     "metadata": {},
     "outputs": [
      {
       "metadata": {},
       "output_type": "display_data",
       "png": "[encoded data removed]",
       "text": [
        "<matplotlib.figure.Figure at 0x2b9c71973790>"
       ]
      }
     ],
     "prompt_number": 107
    },
    {
     "cell_type": "code",
     "collapsed": false,
     "input": [
      "p = plt.plot(x,y**2)"
     ],
     "language": "python",
     "metadata": {},
     "outputs": [
      {
       "metadata": {},
       "output_type": "display_data",
       "png": "[encoded data removed]",
       "text": [
        "<matplotlib.figure.Figure at 0x2b9c72698810>"
       ]
      }
     ],
     "prompt_number": 108
    },
    {
     "cell_type": "markdown",
     "metadata": {},
     "source": [
      "## C. Arrays of numbers"
     ]
    },
    {
     "cell_type": "markdown",
     "metadata": {},
     "source": [
      "You can also create arrays of numbers using NumPy. Two very useful ways to create arrays are by selecting the interval you care about (say, 0 to 10) and either specifying how far apart you want your values to be (numpy.arange), OR the total number of values you want (np.linspace). Let's look at some examples."
     ]
    },
    {
     "cell_type": "code",
     "collapsed": false,
     "input": [
      "np.arange(0,10,2) #here the step size is 2. So you'll get even numbers."
     ],
     "language": "python",
     "metadata": {},
     "outputs": [
      {
       "metadata": {},
       "output_type": "pyout",
       "prompt_number": 23,
       "text": [
        "array([0, 2, 4, 6, 8])"
       ]
      }
     ],
     "prompt_number": 23
    },
    {
     "cell_type": "code",
     "collapsed": false,
     "input": [
      "np.linspace(0,10,2) #here you're asking for 2 values. Guess what they'll be!"
     ],
     "language": "python",
     "metadata": {},
     "outputs": [
      {
       "metadata": {},
       "output_type": "pyout",
       "prompt_number": 24,
       "text": [
        "array([  0.,  10.])"
       ]
      }
     ],
     "prompt_number": 24
    },
    {
     "cell_type": "markdown",
     "metadata": {},
     "source": [
      "Next make an array with endpoints 0 and 1 (include 0 and 1), that has 50 values in it. You can use either (both?) np.arange or np.linspace. Which is easier to you? How many numbers do you get? Are these numbers integers or floats (decimal place)?"
     ]
    },
    {
     "cell_type": "code",
     "collapsed": false,
     "input": [],
     "language": "python",
     "metadata": {},
     "outputs": []
    },
    {
     "cell_type": "code",
     "collapsed": false,
     "input": [],
     "language": "python",
     "metadata": {},
     "outputs": []
    },
    {
     "cell_type": "markdown",
     "metadata": {},
     "source": [
      "Next make an array with endpoints 0 and 2.5 (include 0 and 2.5), that has values spaced out in increments of 0.05. For example: 0, 0.05, 0.1, 0.15...  You can use either np.arange or np.linspace. Which is easier to you? How many numbers do you get? Are these numbers integers or floats (decimal place)?"
     ]
    },
    {
     "cell_type": "code",
     "collapsed": false,
     "input": [],
     "language": "python",
     "metadata": {},
     "outputs": []
    },
    {
     "cell_type": "code",
     "collapsed": false,
     "input": [],
     "language": "python",
     "metadata": {},
     "outputs": []
    },
    {
     "cell_type": "markdown",
     "metadata": {},
     "source": [
      "Next, let's plot these two arrays. Call them $a$ and $b$, or $x$ and $y$ (whichever you prefer--this is your code!), for example: a = np.linspace(). Fill in the missing bits in the code below. "
     ]
    },
    {
     "cell_type": "code",
     "collapsed": false,
     "input": [
      "import ___ as np\n",
      "\n",
      "%matplotlib inline  # We only need this line while working in a Python notebook.\n",
      "import matplotlib\n",
      "import matplotlib.pyplot as plt\n",
      "\n",
      "___ = np.linspace(____)\n",
      "___ = np.arange(____)\n",
      "\n",
      "# Clear the plotting field. \n",
      "plt.clf() # No need to add anything inside these parentheses. \n",
      "\n",
      "plt.plot(__,__,'ro')  # The 'ro' says you want to use Red o plotting symbols. \n"
     ],
     "language": "python",
     "metadata": {},
     "outputs": []
    },
    {
     "cell_type": "markdown",
     "metadata": {},
     "source": [
      "For all the possible plotting symbols, see: http://matplotlib.org/api/markers_api.html. Next, let's plot the positive half of a circle. "
     ]
    },
    {
     "cell_type": "code",
     "collapsed": false,
     "input": [
      "import ___ as np\n",
      "\n",
      "%matplotlib inline  # We only need this line while working in a Python notebook.\n",
      "import matplotlib\n",
      "import matplotlib.pyplot as plt\n",
      "\n",
      "x = np.linspace(-1,1,100)\n",
      "y = np.sqrt(______)\n",
      "\n",
      "# Clear the plotting field. \n",
      "plt.clf() # No need to add anything inside these parentheses. \n",
      "\n",
      "plt.plot(x,y,'ro')  # The 'ro' says you want to use Red o plotting symbols. \n",
      "plt.xlim([-2,2])\n",
      "plt.ylim([-2,2])\n",
      "\n"
     ],
     "language": "python",
     "metadata": {},
     "outputs": []
    },
    {
     "cell_type": "markdown",
     "metadata": {},
     "source": [
      "## D. A more complicated function: The Planck Blackbody Curve"
     ]
    },
    {
     "cell_type": "markdown",
     "metadata": {},
     "source": [
      "Any object at a temperature above absolute zero (at 0 Kelvin, atoms stop moving), emits light of all wavelengths with varying degrees of efficiency. Recall that light is electromagnetic radiation. We see this radiation with our eyes when the wavelength is 400-700 nm, and we feel it as heat when the wavelength is 700 nm - 1mm. A blackbody is an object that is a perfect emitter. This means that it perfectly absorbs any energy that hits it and re-emits this energy over ALL wavelengths. The spectrum of a blackbody looks like a rainbow to our eyes. \n",
      "\n",
      "The expression for this \"rainbow\" over all wavelengths is given by,\n",
      "\n",
      "$$\n",
      "B(\\lambda,T) = \\dfrac{2hc^2}{\\lambda^5} \\dfrac{1}{e^{\\frac{hc}{\\lambda kT}}-1}\n",
      "$$\n",
      "\n",
      "where $\\lambda$ is the wavelength, $T$ is the temperature of the object, $h$ is Planck's constant, $c$ is the speed of light, and $k$ is the Boltzmann constant. \n",
      "\n",
      "https://en.wikipedia.org/wiki/Black-body_radiation"
     ]
    },
    {
     "cell_type": "markdown",
     "metadata": {},
     "source": [
      "### Plotting a blackbody curve:\n",
      "\n",
      "First, let us look at code that might be confusing to read later on. "
     ]
    },
    {
     "cell_type": "code",
     "collapsed": false,
     "input": [
      "import numpy as np\n",
      "import matplotlib\n",
      "import matplotlib.pyplot as plt\n",
      "\n",
      "x = np.linspace(100,2000,10000)*1e-9  #wavelength, we want a range of 100 nm to 10000 nm, but in METERS\n",
      "\n",
      "Blam = 2.0*6.626e-34*2.998e8**2/x**5/(np.exp(6.626e-34*2.998e8/(x*1.381e-23*5800.0))-1.0)\n",
      "\n",
      "plt.clf()\n",
      "p = plt.plot(x*1e9,Blam)  #we multiply by 1e9 so that the x axis shows nm\n",
      "xl = plt.xlabel('Wavelength (nm)')\n",
      "yl = plt.ylabel('Spectral Radiance ()')  #What are the units?\n"
     ],
     "language": "python",
     "metadata": {},
     "outputs": [
      {
       "metadata": {},
       "output_type": "display_data",
       "png": "[encoded data removed]",
       "text": [
        "<matplotlib.figure.Figure at 0x2b9c73601350>"
       ]
      }
     ],
     "prompt_number": 109
    },
    {
     "cell_type": "markdown",
     "metadata": {},
     "source": [
      "Would this code be easy to edit for other temperatures? \n",
      "\n",
      "Now, let's look at code that does the same thing, but is more documented:"
     ]
    },
    {
     "cell_type": "code",
     "collapsed": false,
     "input": [
      "import numpy as np\n",
      "import matplotlib\n",
      "import matplotlib.pyplot as plt\n",
      "\n",
      "# Constants in MKS (meters, kilograms, & seconds)\n",
      "\n",
      "h = 6.626e-34   # J s \n",
      "c = 2.998e8    # m/s\n",
      "k = 1.381e-23   # J/K\n",
      "\n",
      "# Let's pick the sun. YOU will need to PICK the temperature and then a range of\n",
      "# frequencies or wavelengths that \"make sense\" for that temperature. \n",
      "# We know that the sun peaks in visible part of the spectrum. This wavelength \n",
      "# is close to 500 nm. Let's have the domain (x values) go from 100 nm to 2000 nm. \n",
      "# 1 nm = 10^-9 m = 10^-7 cm. \n",
      "\n",
      "lam = np.linspace(100,2000,10000)*1e-9 #wavelength in nm\n",
      "nu = c/lam\n",
      "T = 5800.0\n",
      "\n",
      "exp = np.exp(h*c/(lam*k*T))\n",
      "num = 2.0 * h * c**2 \n",
      "denom = lam**5 * (exp - 1.0)\n",
      "\n",
      "Blam = num/denom\n",
      "\n",
      "plt.clf()\n",
      "p = plt.plot(wav*1e9,Blam)\n",
      "xl = plt.xlabel('Wavelength (nm)')\n",
      "yl = plt.ylabel(r'Spectral Radiance (W m$^{-3}$)')  #What are the units?\n",
      "\n",
      "# Try a log-log plot. \n",
      "#p = plt.loglog(wav,Bnu)"
     ],
     "language": "python",
     "metadata": {},
     "outputs": [
      {
       "metadata": {},
       "output_type": "display_data",
       "png": "[encoded data removed]",
       "text": [
        "<matplotlib.figure.Figure at 0x2b9c73474fd0>"
       ]
      }
     ],
     "prompt_number": 93
    },
    {
     "cell_type": "markdown",
     "metadata": {},
     "source": [
      "### Plotting Multiple Curves:"
     ]
    },
    {
     "cell_type": "code",
     "collapsed": false,
     "input": [
      "import numpy as np\n",
      "import matplotlib\n",
      "import matplotlib.pyplot as plt\n",
      "\n",
      "# Constants in MKS (meters, kilograms, & seconds)\n",
      "\n",
      "h = 6.626e-34   # \n",
      "c = 2.998e8    # m/s\n",
      "k = 1.381e-23   # J/K\n",
      "\n",
      "# Let's try to recreate the plot above. \n",
      "# Pick temperatures: T1 = 7000 K , T2= 5800 K, and T3 = 4000 K. \n",
      "# Let's have the domain (x values) go from 100 nm to 2000 nm. \n",
      "# 1 nm = 10^-9 m. \n",
      "\n",
      "wav = np.linspace(100,2000,10000)*1e-9  #in meters\n",
      "\n",
      "T1 = 7000.\n",
      "T2 = 5800.\n",
      "T3 = 4000.\n",
      "\n",
      "num = 2.0 * h * c**2 \n",
      "\n",
      "exp1 = np.exp(h*c/(wav*k*T1))\n",
      "denom1 = wav**5 * (exp1 - 1.0)\n",
      "\n",
      "exp2 = np.exp(h*c/(wav*k*T2))\n",
      "denom2 = wav**5 * (exp2 - 1.0)\n",
      "\n",
      "exp3 = np.exp(h*c/(wav*k*T3))\n",
      "denom3 = wav**5 * (exp3 - 1.0)\n",
      "\n",
      "Bnu1 = num/denom1\n",
      "Bnu2 = num/denom2\n",
      "Bnu3 = num/denom3\n",
      "\n",
      "plt.clf()\n",
      "p1 = plt.plot(wav*1e9,Bnu1,label='T =7000 K')\n",
      "p2 = plt.plot(wav*1e9,Bnu2,label='T = 5800 K')\n",
      "p3 = plt.plot(wav*1e9,Bnu3,label='T = 4000 K')\n",
      "xl = plt.xlabel('Wavelength (nm)')\n",
      "yl = plt.ylabel(r'Spectral Radiance (W m$^{-3}$)')\n",
      "l = plt.legend()\n",
      "\n"
     ],
     "language": "python",
     "metadata": {},
     "outputs": [
      {
       "metadata": {},
       "output_type": "display_data",
       "png": "[encoded data removed]",
       "text": [
        "<matplotlib.figure.Figure at 0x2b9c739a8650>"
       ]
      }
     ],
     "prompt_number": 97
    },
    {
     "cell_type": "markdown",
     "metadata": {},
     "source": [
      "**Next, let's have you try an example.** We mentioned above that wavelength and frequency are related by the speed of light,\n",
      "$$\n",
      "c = \\lambda \\nu.\n",
      "$$\n",
      "\n",
      "We also described a blackbody in terms of the wavelength. However, we can also describe a blackbody in terms of frequency,\n",
      "\n",
      "$$\n",
      "B(\\nu,T) = \\dfrac{2h\\nu^3}{c^2} \\dfrac{1}{e^{\\frac{h\\nu}{kT}}-1}.\n",
      "$$\n",
      "\n",
      "We can do this because\n",
      "$$\n",
      "B_\\nu d\\nu = B_\\lambda d\\lambda\n",
      "$$\n",
      "where\n",
      "$$\n",
      "\\nu = \\frac{c}{\\lambda} \\quad \\text{and} \\quad \\frac{d\\nu}{d\\lambda} = \\left| - \\frac{c}{\\lambda^2}\\right|.\n",
      "$$\n",
      "\n",
      "\n",
      "### EXERCISE: Make the same plot above (for 3 separate temperatures) with the x axis showing frequency (in Hertz). \n"
     ]
    },
    {
     "cell_type": "code",
     "collapsed": false,
     "input": [
      "import numpy as np\n",
      "import matplotlib\n",
      "import matplotlib.pyplot as plt\n",
      "\n",
      "# Constants in MKS (meters, kilograms, & seconds)\n",
      "\n",
      "h = 6.626e-34   # \n",
      "c = 2.998e8    # m/s\n",
      "k = 1.381e-23   # J/K\n",
      "\n",
      "# Let's try to recreate the plot above. \n",
      "# Pick three temperatures. \n",
      "# Decide on a domain in Hertz (frequency) that makes sense. \n",
      "# c = nu x lambda, nu = c/lambda\n",
      "\n",
      "#### Put your code here ###\n"
     ],
     "language": "python",
     "metadata": {},
     "outputs": []
    }
   ],
   "metadata": {}
  }
 ]
}